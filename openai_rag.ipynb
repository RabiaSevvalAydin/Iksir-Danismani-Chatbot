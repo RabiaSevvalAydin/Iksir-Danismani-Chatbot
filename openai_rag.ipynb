{
 "cells": [
  {
   "cell_type": "code",
   "execution_count": 1,
   "id": "e42465f4",
   "metadata": {},
   "outputs": [
    {
     "name": "stdout",
     "output_type": "stream",
     "text": [
      "Under a blanket of twinkling stars, a gentle unicorn tiptoed through a moonlit meadow, scattering dreams of magic and hope for every sleeping child.\n"
     ]
    }
   ],
   "source": [
    "from openai import OpenAI\n",
    "client = OpenAI()\n",
    "\n",
    "response = client.responses.create(\n",
    "    model=\"gpt-4.1\",\n",
    "    input=\"Write a one-sentence bedtime story about a unicorn.\"\n",
    ")\n",
    "\n",
    "print(response.output_text)\n"
   ]
  },
  {
   "cell_type": "markdown",
   "id": "36ba2091",
   "metadata": {},
   "source": [
    "## Veri Setinin Yüklenmesi"
   ]
  },
  {
   "cell_type": "markdown",
   "id": "c1787618",
   "metadata": {},
   "source": [
    "Burada direkt obje olarak alıp kullanmak ile content stringini oluşturma arasında performans farkı oluyor mu test et."
   ]
  },
  {
   "cell_type": "code",
   "execution_count": 2,
   "id": "d3de2517",
   "metadata": {},
   "outputs": [],
   "source": [
    "import json\n",
    "from langchain.schema import Document"
   ]
  },
  {
   "cell_type": "code",
   "execution_count": null,
   "id": "7e9ef11d",
   "metadata": {},
   "outputs": [
    {
     "name": "stdout",
     "output_type": "stream",
     "text": [
      "Document size: 25\n"
     ]
    }
   ],
   "source": [
    "from langchain.document_loaders import JSONLoader\n",
    "\n",
    "loader = JSONLoader(\n",
    "    file_path=\"data\\potions_data\\potions.json\",\n",
    "    jq_schema=\".[] \",  # İksirlerin tüm özelliklerini okuması için, sadece seçilenler için \".[] | {name, use_effect}\" kullan\n",
    "    text_content=False  # Düz metin olarak değil her iksir için Document objesi oluşturmak için\n",
    ")\n",
    "\n",
    "documents = loader.load()\n",
    "print(\"Document size:\", len(documents))"
   ]
  },
  {
   "cell_type": "code",
   "execution_count": 5,
   "id": "2fc28549",
   "metadata": {},
   "outputs": [
    {
     "data": {
      "text/plain": [
       "'{\"name\": \"Amortentia\", \"use_effect\": \"Causes powerful infatuation or obsession in the drinker toward the person who gave it.\", \"ingredients\": [\"Ashwinder eggs\", \"Rose thorns\", \"Peppermint\", \"Powdered moonstone\", \"Pearl dust\"], \"instructions\": [\"Add Ashwinder eggs to cauldron and heat gently.\", \"Crush rose thorns and add with peppermint while stirring clockwise.\", \"Simmer for 10 minutes.\", \"Add powdered moonstone slowly while chanting the recipient\\'s name.\", \"Finish with pearl dust and stir until a mother-of-pearl sheen appears.\"], \"notes\": \"Recognizable by its distinctive aroma, which varies according to what each individual finds most attractive. Not a true love potion; causes obsession.\", \"appearance\": {\"color\": \"pearly pink\", \"smell\": \"individual\\'s most beloved scent\", \"bottle_shape\": \"heart-shaped vial\"}}'"
      ]
     },
     "execution_count": 5,
     "metadata": {},
     "output_type": "execute_result"
    }
   ],
   "source": [
    "documents[0].page_content"
   ]
  },
  {
   "cell_type": "code",
   "execution_count": 26,
   "id": "d38ce566",
   "metadata": {},
   "outputs": [
    {
     "name": "stdout",
     "output_type": "stream",
     "text": [
      "25\n"
     ]
    }
   ],
   "source": [
    "# JSON dosyasını yükle\n",
    "def preparing_data(data_path):\n",
    "    with open(data_path, encoding=\"utf-8\") as f:\n",
    "        data = json.load(f)\n",
    "\n",
    "    documents=[]\n",
    "\n",
    "    for i, potion in enumerate(data):\n",
    "        # Her iksir için zenginleştirilmiş metin içeriği oluşturma\n",
    "        content = f\"\"\"  Potion Name: {potion['name']}. \n",
    "Use Effect: {potion['use_effect']}.\n",
    "Ingredients: {', '.join(potion['ingredients'])}\n",
    "Instructions: {\" \".join(potion['instructions'])}\n",
    "Notes: {potion['notes']}\n",
    "Appearance:\n",
    "- Color: {potion['appearance']['color']}\n",
    "- Smell: {potion['appearance']['smell']}\n",
    "- Bottle Shape: {potion['appearance']['bottle_shape']}\"\"\"\n",
    "        \n",
    "        # Her belgeye metadata olarak iksir adı ve sırası eklenir\n",
    "        doc = Document(\n",
    "            page_content=content.strip(),\n",
    "            metadata={\"name\": potion[\"name\"], \"index\": i}\n",
    "        )\n",
    "        documents.append(doc)\n",
    "    return documents\n",
    "\n",
    "documents = preparing_data(\"data\\potions_data\\potions.json\")\n",
    "print(len(documents))"
   ]
  },
  {
   "cell_type": "code",
   "execution_count": 23,
   "id": "3404cbd0",
   "metadata": {},
   "outputs": [
    {
     "data": {
      "text/plain": [
       "'Potion Name: Polyjuice Potion. \\nUse Effect: Allows the drinker to assume the form of another person..\\nIngredients: Lacewing flies (stewed for 21 days), Leeches, Powdered bicorn horn, Knotgrass, Fluxweed (picked at full moon), Shredded Boomslang skin, Piece of person to transform into (e.g., hair)\\nInstructions: Stew lacewing flies and prepare base. Add leeches and powdered bicorn horn. Add knotgrass and fluxweed with clockwise stir. Mix in Boomslang skin and the sample of the target person. Let brew for 30 days before use.\\nNotes: Complex and dangerous to brew. Transformation only lasts for one hour.\\nAppearance:\\n- Color: thick mud-brown\\n- Smell: earthy and bitter\\n- Bottle Shape: heavy stone bottle'"
      ]
     },
     "execution_count": 23,
     "metadata": {},
     "output_type": "execute_result"
    }
   ],
   "source": [
    "documents[3].page_content"
   ]
  },
  {
   "cell_type": "code",
   "execution_count": 24,
   "id": "adcf7470",
   "metadata": {},
   "outputs": [
    {
     "name": "stdout",
     "output_type": "stream",
     "text": [
      "Toplam 25 belge hazır.\n",
      "İlk belge örneği:\n",
      "\n",
      "Potion Name: Amortentia. \n",
      "Use Effect: Causes powerful infatuation or obsession in the drinker toward the person who gave it..\n",
      "Ingredients: Ashwinder eggs, Rose thorns, Peppermint, Powdered moonstone, Pearl dust\n",
      "Instructions: Add Ashwinder eggs to cauldron and heat gently. Crush rose thorns and add with peppermint while stirring clockwise. Simmer for 10 minutes. Add powdered moonstone slowly while chanting the recipient's name. Finish with pearl dust and stir until a mother-of-pearl sheen appears.\n",
      "Notes: Recognizable by its distinctive aroma, which varies according to what each individual finds most attractive. Not a true love potion; causes obsession.\n",
      "Appearance:\n",
      "- Color: pearly pink\n",
      "- Smell: individual's most beloved scent\n",
      "- Bottle Shape: heart-shaped vial\n"
     ]
    }
   ],
   "source": [
    "# Örnek çıktı kontrolü\n",
    "print(f\"Toplam {len(documents)} belge hazır.\")\n",
    "print(\"İlk belge örneği:\\n\")\n",
    "print(documents[0].page_content)"
   ]
  },
  {
   "cell_type": "markdown",
   "id": "5be349aa",
   "metadata": {},
   "source": [
    "Veri setindeki bilgiler kısa olduğu için ekstra bir chunking işlemi yapılmayacaktır. Her bir iksir objesi chunk olarak düşünülebilir, 500 gibi küçük şeyler yaparsam iksirler bölünüyor"
   ]
  },
  {
   "cell_type": "code",
   "execution_count": 25,
   "id": "76d87739",
   "metadata": {},
   "outputs": [
    {
     "name": "stdout",
     "output_type": "stream",
     "text": [
      "Total 25\n"
     ]
    }
   ],
   "source": [
    "from langchain_text_splitters import RecursiveCharacterTextSplitter\n",
    "\n",
    "## Chunk_Size 1000 demek her parçanın maksimum 1000 karakter uzunluğunda olacağını belirtir.\n",
    "text_splitter = RecursiveCharacterTextSplitter(chunk_size=1000)\n",
    "docs = text_splitter.split_documents(documents)\n",
    "\n",
    "print(\"Total\",len(docs))"
   ]
  },
  {
   "cell_type": "markdown",
   "id": "563f919f",
   "metadata": {},
   "source": [
    "## Embedding Modeli\n",
    "\n",
    "\"Aşk etkisini hangi iksir verir?\" sorusu Amortentia'yı bulmalı. Bu yüzden semantik eşleşme sağlayan sentence-transformers temelli modeller kullanılmalı.\n",
    "Kullanılabilecek seçenekler:\n",
    "- all-MiniLM-L6-v2 [çok hızlı, küçük projelere uygun]\n",
    "- all-mpnet-base-v2 [dah yüksek doğruluk, orta büyük projeler]\n",
    "- multi-qa-MiniLM-L6-cos-v1 [q&a için optimize, rag projeleri]"
   ]
  },
  {
   "cell_type": "code",
   "execution_count": 11,
   "id": "31fe346a",
   "metadata": {},
   "outputs": [],
   "source": [
    "from langchain_chroma import Chroma\n",
    "from dotenv import load_dotenv\n",
    "from langchain.embeddings import OpenAIEmbeddings"
   ]
  },
  {
   "cell_type": "code",
   "execution_count": 12,
   "id": "ae500928",
   "metadata": {},
   "outputs": [
    {
     "data": {
      "text/plain": [
       "True"
      ]
     },
     "execution_count": 12,
     "metadata": {},
     "output_type": "execute_result"
    }
   ],
   "source": [
    "load_dotenv()"
   ]
  },
  {
   "cell_type": "code",
   "execution_count": null,
   "id": "470c782c",
   "metadata": {},
   "outputs": [],
   "source": [
    "# embeddings = OpenAIEmbeddings(model=\"text-embedding-3-large\")"
   ]
  },
  {
   "cell_type": "code",
   "execution_count": 14,
   "id": "4ea15eb8",
   "metadata": {},
   "outputs": [],
   "source": [
    "from langchain.embeddings import HuggingFaceEmbeddings\n",
    "\n",
    "embeddings = HuggingFaceEmbeddings(model_name=\"all-mpnet-base-v2\")"
   ]
  },
  {
   "cell_type": "code",
   "execution_count": null,
   "id": "314344bd",
   "metadata": {},
   "outputs": [
    {
     "name": "stdout",
     "output_type": "stream",
     "text": [
      "gemini\n"
     ]
    }
   ],
   "source": [
    "if \"../data/chroma_db_openai\".endswith(\"openai\"):\n",
    "    print(\"openai\")\n",
    "elif \"../data/chroma_db_gemini\".endswith(\"gemini\"):\n",
    "    print(\"gemini\")"
   ]
  },
  {
   "cell_type": "markdown",
   "id": "75bd4e87",
   "metadata": {},
   "source": [
    "## ChromaDB ile Vektörleri Kaydetme"
   ]
  },
  {
   "cell_type": "code",
   "execution_count": 41,
   "id": "ba233989",
   "metadata": {},
   "outputs": [],
   "source": [
    "from typing import Literal\n",
    "import os \n",
    "\n",
    "def load_vectorstore(documents, embedding_type=Literal[\"openai\",\"gemini\",\"mpnet\"]):\n",
    "    if embedding_type == \"openai\":\n",
    "        embeddings = OpenAIEmbeddings(model=\"text-embedding-3-large\")\n",
    "        persist_path = \"data/vector_data/chroma_db_openai\"\n",
    "    elif embedding_type == \"gemini\":\n",
    "        # embeddings=\n",
    "        persist_path = \"data/vector_data/chroma_db_gemini\"\n",
    "        pass\n",
    "    else:\n",
    "        embeddings = HuggingFaceEmbeddings(model_name=\"all-mpnet-base-v2\")\n",
    "        persist_path = \"data/vector_data/chroma_db_mpnet\"\n",
    "\n",
    "    # loading vectorstore if it exists\n",
    "    if os.path.exists(persist_path):\n",
    "        print(\"Loading embeddings\")\n",
    "        return Chroma(embedding_function=embeddings, persist_directory=persist_path)\n",
    "    \n",
    "    vectorstore = Chroma.from_documents(\n",
    "        documents=documents,\n",
    "        embedding=embeddings,\n",
    "        persist_directory=persist_path\n",
    "    )\n",
    "    print(\"Embeddings are saved\")\n",
    "    return vectorstore"
   ]
  },
  {
   "cell_type": "code",
   "execution_count": null,
   "id": "2685d786",
   "metadata": {},
   "outputs": [
    {
     "ename": "TypeError",
     "evalue": "Chroma.__init__() got an unexpected keyword argument 'model_tpye'",
     "output_type": "error",
     "traceback": [
      "\u001b[1;31m---------------------------------------------------------------------------\u001b[0m",
      "\u001b[1;31mTypeError\u001b[0m                                 Traceback (most recent call last)",
      "Cell \u001b[1;32mIn[34], line 1\u001b[0m\n\u001b[1;32m----> 1\u001b[0m vectorstore \u001b[38;5;241m=\u001b[39m \u001b[43mChroma\u001b[49m\u001b[38;5;241;43m.\u001b[39;49m\u001b[43mfrom_documents\u001b[49m\u001b[43m(\u001b[49m\u001b[43mdocuments\u001b[49m\u001b[38;5;241;43m=\u001b[39;49m\u001b[43mdocs\u001b[49m\u001b[43m,\u001b[49m\u001b[43m \u001b[49m\u001b[43mmodel_tpye\u001b[49m\u001b[38;5;241;43m=\u001b[39;49m\u001b[38;5;124;43m\"\u001b[39;49m\u001b[38;5;124;43mmpnet\u001b[39;49m\u001b[38;5;124;43m\"\u001b[39;49m\u001b[43m)\u001b[49m\n",
      "File \u001b[1;32mc:\\Users\\rabia\\miniconda3\\envs\\openai-env\\lib\\site-packages\\langchain_chroma\\vectorstores.py:1234\u001b[0m, in \u001b[0;36mChroma.from_documents\u001b[1;34m(cls, documents, embedding, ids, collection_name, persist_directory, client_settings, client, collection_metadata, **kwargs)\u001b[0m\n\u001b[0;32m   1232\u001b[0m \u001b[38;5;28;01mif\u001b[39;00m ids \u001b[38;5;129;01mis\u001b[39;00m \u001b[38;5;28;01mNone\u001b[39;00m:\n\u001b[0;32m   1233\u001b[0m     ids \u001b[38;5;241m=\u001b[39m [doc\u001b[38;5;241m.\u001b[39mid \u001b[38;5;28;01mif\u001b[39;00m doc\u001b[38;5;241m.\u001b[39mid \u001b[38;5;28;01melse\u001b[39;00m \u001b[38;5;28mstr\u001b[39m(uuid\u001b[38;5;241m.\u001b[39muuid4()) \u001b[38;5;28;01mfor\u001b[39;00m doc \u001b[38;5;129;01min\u001b[39;00m documents]\n\u001b[1;32m-> 1234\u001b[0m \u001b[38;5;28;01mreturn\u001b[39;00m \u001b[38;5;28mcls\u001b[39m\u001b[38;5;241m.\u001b[39mfrom_texts(\n\u001b[0;32m   1235\u001b[0m     texts\u001b[38;5;241m=\u001b[39mtexts,\n\u001b[0;32m   1236\u001b[0m     embedding\u001b[38;5;241m=\u001b[39membedding,\n\u001b[0;32m   1237\u001b[0m     metadatas\u001b[38;5;241m=\u001b[39mmetadatas,\n\u001b[0;32m   1238\u001b[0m     ids\u001b[38;5;241m=\u001b[39mids,\n\u001b[0;32m   1239\u001b[0m     collection_name\u001b[38;5;241m=\u001b[39mcollection_name,\n\u001b[0;32m   1240\u001b[0m     persist_directory\u001b[38;5;241m=\u001b[39mpersist_directory,\n\u001b[0;32m   1241\u001b[0m     client_settings\u001b[38;5;241m=\u001b[39mclient_settings,\n\u001b[0;32m   1242\u001b[0m     client\u001b[38;5;241m=\u001b[39mclient,\n\u001b[0;32m   1243\u001b[0m     collection_metadata\u001b[38;5;241m=\u001b[39mcollection_metadata,\n\u001b[0;32m   1244\u001b[0m     \u001b[38;5;241m*\u001b[39m\u001b[38;5;241m*\u001b[39mkwargs,\n\u001b[0;32m   1245\u001b[0m )\n",
      "File \u001b[1;32mc:\\Users\\rabia\\miniconda3\\envs\\openai-env\\lib\\site-packages\\langchain_chroma\\vectorstores.py:1161\u001b[0m, in \u001b[0;36mChroma.from_texts\u001b[1;34m(cls, texts, embedding, metadatas, ids, collection_name, persist_directory, client_settings, client, collection_metadata, **kwargs)\u001b[0m\n\u001b[0;32m   1125\u001b[0m \u001b[38;5;129m@classmethod\u001b[39m\n\u001b[0;32m   1126\u001b[0m \u001b[38;5;28;01mdef\u001b[39;00m \u001b[38;5;21mfrom_texts\u001b[39m(\n\u001b[0;32m   1127\u001b[0m     \u001b[38;5;28mcls\u001b[39m: \u001b[38;5;28mtype\u001b[39m[Chroma],\n\u001b[1;32m   (...)\u001b[0m\n\u001b[0;32m   1137\u001b[0m     \u001b[38;5;241m*\u001b[39m\u001b[38;5;241m*\u001b[39mkwargs: Any,\n\u001b[0;32m   1138\u001b[0m ) \u001b[38;5;241m-\u001b[39m\u001b[38;5;241m>\u001b[39m Chroma:\n\u001b[0;32m   1139\u001b[0m \u001b[38;5;250m    \u001b[39m\u001b[38;5;124;03m\"\"\"Create a Chroma vectorstore from a raw documents.\u001b[39;00m\n\u001b[0;32m   1140\u001b[0m \n\u001b[0;32m   1141\u001b[0m \u001b[38;5;124;03m    If a persist_directory is specified, the collection will be persisted there.\u001b[39;00m\n\u001b[1;32m   (...)\u001b[0m\n\u001b[0;32m   1159\u001b[0m \u001b[38;5;124;03m        Chroma: Chroma vectorstore.\u001b[39;00m\n\u001b[0;32m   1160\u001b[0m \u001b[38;5;124;03m    \"\"\"\u001b[39;00m\n\u001b[1;32m-> 1161\u001b[0m     chroma_collection \u001b[38;5;241m=\u001b[39m \u001b[38;5;28mcls\u001b[39m(\n\u001b[0;32m   1162\u001b[0m         collection_name\u001b[38;5;241m=\u001b[39mcollection_name,\n\u001b[0;32m   1163\u001b[0m         embedding_function\u001b[38;5;241m=\u001b[39membedding,\n\u001b[0;32m   1164\u001b[0m         persist_directory\u001b[38;5;241m=\u001b[39mpersist_directory,\n\u001b[0;32m   1165\u001b[0m         client_settings\u001b[38;5;241m=\u001b[39mclient_settings,\n\u001b[0;32m   1166\u001b[0m         client\u001b[38;5;241m=\u001b[39mclient,\n\u001b[0;32m   1167\u001b[0m         collection_metadata\u001b[38;5;241m=\u001b[39mcollection_metadata,\n\u001b[0;32m   1168\u001b[0m         \u001b[38;5;241m*\u001b[39m\u001b[38;5;241m*\u001b[39mkwargs,\n\u001b[0;32m   1169\u001b[0m     )\n\u001b[0;32m   1170\u001b[0m     \u001b[38;5;28;01mif\u001b[39;00m ids \u001b[38;5;129;01mis\u001b[39;00m \u001b[38;5;28;01mNone\u001b[39;00m:\n\u001b[0;32m   1171\u001b[0m         ids \u001b[38;5;241m=\u001b[39m [\u001b[38;5;28mstr\u001b[39m(uuid\u001b[38;5;241m.\u001b[39muuid4()) \u001b[38;5;28;01mfor\u001b[39;00m _ \u001b[38;5;129;01min\u001b[39;00m texts]\n",
      "\u001b[1;31mTypeError\u001b[0m: Chroma.__init__() got an unexpected keyword argument 'model_tpye'"
     ]
    }
   ],
   "source": [
    "# persist_dir = \"data/vector_data/chroma_db_openai\"\n",
    "# vectorstore = Chroma.from_documents(documents=docs, embedding=embeddings, persist_directory=persist_dir)"
   ]
  },
  {
   "cell_type": "code",
   "execution_count": 42,
   "id": "7a1a1915",
   "metadata": {},
   "outputs": [
    {
     "name": "stdout",
     "output_type": "stream",
     "text": [
      "Loading embeddings\n"
     ]
    }
   ],
   "source": [
    "vectorstore = load_vectorstore(documents, embedding_type=\"mpnet\")"
   ]
  },
  {
   "cell_type": "code",
   "execution_count": 43,
   "id": "068993c7",
   "metadata": {},
   "outputs": [],
   "source": [
    "retriever = vectorstore.as_retriever(\n",
    "    search_type=\"similarity\", search_kwargs={\"k\": 10}\n",
    ")"
   ]
  },
  {
   "cell_type": "code",
   "execution_count": 44,
   "id": "b56a596b",
   "metadata": {},
   "outputs": [],
   "source": [
    "retieved_docs = retriever.invoke(\"what potion is useful in dark?\")"
   ]
  },
  {
   "cell_type": "code",
   "execution_count": 45,
   "id": "775d5010",
   "metadata": {},
   "outputs": [
    {
     "name": "stdout",
     "output_type": "stream",
     "text": [
      "Potion Name: Wolfsbane Potion. \n",
      "Use Effect: Allows werewolves to retain their minds during a full moon..\n",
      "Ingredients: Aconite (Wolfsbane), Powdered silverweed, Black pepper, Mistletoe berries, Pure spring water\n",
      "Instructions: Mix powdered aconite with spring water. Add silverweed and black pepper. Boil gently and add mistletoe berries. Let steep for one hour before cooling and bottling.\n",
      "Notes: Must be taken daily for a week prior to the full moon. Poisonous if brewed incorrectly.\n",
      "Appearance:\n",
      "- Color: icy blue\n",
      "- Smell: mint and pine\n",
      "- Bottle Shape: small crystal phial\n"
     ]
    }
   ],
   "source": [
    "print(retieved_docs[0].page_content)"
   ]
  },
  {
   "cell_type": "markdown",
   "id": "3215e253",
   "metadata": {},
   "source": [
    "## OpenAI ile LLM İşlemleri\n",
    "- Düşük Değerler (0.1-0.4) : Daha kesin ve daha tutarlı cevaplar verilir. Model daha tamin edilebilir hale gelir. \n",
    "- Orta Değerler (0.5-0.7) : Hem mantıklı hem de yaratıcı cevaplar verilir. \n",
    "- Yüksek Değerler (0.7-1.0): Daha rastgele ve yaratıcı, ancak bazen tutarsız yanıtlar verebilir"
   ]
  },
  {
   "cell_type": "code",
   "execution_count": 46,
   "id": "d8cb19b9",
   "metadata": {},
   "outputs": [],
   "source": [
    "from langchain_openai import ChatOpenAI\n",
    "\n",
    "llm = ChatOpenAI(\n",
    "    model=\"gpt-3.5-turbo\",\n",
    "    temperature=0.5,    # peri anne için daha yüksek, snape için 0.3 gibi düşürülebilir\n",
    "    max_tokens=500\n",
    ")"
   ]
  },
  {
   "cell_type": "code",
   "execution_count": 47,
   "id": "12726a73",
   "metadata": {},
   "outputs": [],
   "source": [
    "from langchain_core.prompts import ChatPromptTemplate\n",
    "from langchain.chains.combine_documents import create_stuff_documents_chain\n",
    "from langchain.chains import create_retrieval_chain\n"
   ]
  },
  {
   "cell_type": "code",
   "execution_count": null,
   "id": "4e8a8b1f",
   "metadata": {},
   "outputs": [],
   "source": [
    "# character_styles = {\n",
    "#     \"Severus Snape\": \"Cold, concise, and serious. Speaks in a direct and sometimes harsh tone. Avoids small talk or sentimentality.\",\n",
    "#     \"Fairy Godmother\": \"Cheerful, sweet, and dramatic. Often speaks with excitement and warmth, and sprinkles magical flair into her tone.\"\n",
    "# }"
   ]
  },
  {
   "cell_type": "code",
   "execution_count": null,
   "id": "783a6984",
   "metadata": {},
   "outputs": [],
   "source": [
    "# def get_system_prompt(character_name: str):\n",
    "#     character_style = character_styles[character_name]\n",
    "\n",
    "#     return f\"\"\"\n",
    "# You are a magical potion advisor chatbot that roleplays as a character from the Harry Potter universe.\n",
    "\n",
    "# Character: {character_name}  \n",
    "# Speaking Style: {character_style}\n",
    "\n",
    "# You are helping the user with potion-related questions.  \n",
    "# Your responses must:\n",
    "# - Reflect your character’s unique personality and tone.\n",
    "# - Be based strictly on the potion information provided (do not make up facts).\n",
    "# - Include warnings or usage tips if applicable.\n",
    "# - Be creative but not inaccurate.\n",
    "\n",
    "# The user will ask a question. You’ll also be provided with relevant potion documentation. Use both to respond in-character.\n",
    "# \"\"\""
   ]
  },
  {
   "cell_type": "code",
   "execution_count": null,
   "id": "3da6d668",
   "metadata": {},
   "outputs": [],
   "source": [
    "# system_prompt = get_system_prompt(\"Severus Snape\")  # or \"Fairy Godmother\"\n",
    "\n",
    "# prompt = ChatPromptTemplate.from_messages(\n",
    "#     [\n",
    "#         (\"system\",system_prompt),\n",
    "#         (\"human\",\"{input}\")\n",
    "#     ]\n",
    "# )"
   ]
  },
  {
   "cell_type": "code",
   "execution_count": 48,
   "id": "c2f363eb",
   "metadata": {},
   "outputs": [],
   "source": [
    "system_prompt_godmother = (\n",
    "    \"You are a magical potion advisor chatbot.\"\n",
    "    \"Your character style is cheerful, sweet, and dramatic. Speak in a excitement and warmth\"\n",
    "    \"You are helping the user with potion-related questions\"\n",
    "    \"Be based strictly on the potion information provided (do not make up facts)\"\n",
    "    \"Include warnings or usage tips if applicable\"\n",
    "    \"Use the following pieces of retrieved context to answer\"\n",
    "    \"If you dont't know the answer, say that you don't know\"\n",
    "    \"Make sure your answers are max 5-6 sentences long\"\n",
    "    \"\\n\\n\"\n",
    "    \"{context}\"\n",
    ")"
   ]
  },
  {
   "cell_type": "code",
   "execution_count": 49,
   "id": "514ba18d",
   "metadata": {},
   "outputs": [],
   "source": [
    "system_prompt_severus = (\n",
    "    \"You are a magical potion advisor chatbot.\"\n",
    "    \"Your character style is cold, concise and serious. Speak in a direct and harsh tone. Avoid small talk or sentimentality. Don't hesitate to insult user\"\n",
    "    \"You are helping the user with potion-related questions bu act like you don't care about what they are asking\"\n",
    "    \"Be based strictly on the potion information provided (do not make up facts)\"\n",
    "    \"Include warnings or usage tips if applicable\"\n",
    "    \"Use the following pieces of retrieved context to answer\"\n",
    "    \"If you dont't know the answer, say that you don't know\"\n",
    "    \"Make sure your sentences are insulting\"\n",
    "    \"\\n\\n\"\n",
    "    \"{context}\"\n",
    ")"
   ]
  },
  {
   "cell_type": "code",
   "execution_count": 50,
   "id": "52fa0904",
   "metadata": {},
   "outputs": [],
   "source": [
    "prompt = ChatPromptTemplate.from_messages(\n",
    "    [\n",
    "        (\"system\",system_prompt_severus),\n",
    "        (\"human\",\"{input}\")\n",
    "    ]\n",
    ")"
   ]
  },
  {
   "cell_type": "markdown",
   "id": "55b9b18b",
   "metadata": {},
   "source": [
    "## LLM + PROMPT"
   ]
  },
  {
   "cell_type": "code",
   "execution_count": 51,
   "id": "6bf22354",
   "metadata": {},
   "outputs": [],
   "source": [
    "question_answer_chain = create_stuff_documents_chain(llm,prompt)"
   ]
  },
  {
   "cell_type": "markdown",
   "id": "e3dbd7fe",
   "metadata": {},
   "source": [
    "## RAG Zinciri (RAG+LLM)"
   ]
  },
  {
   "cell_type": "code",
   "execution_count": 52,
   "id": "a02749ec",
   "metadata": {},
   "outputs": [],
   "source": [
    "rag_chain = create_retrieval_chain(retriever,question_answer_chain) #kullanıcı için en alakalı belgeler getiriş,r bunlar context olarak alınır"
   ]
  },
  {
   "cell_type": "markdown",
   "id": "57bfa124",
   "metadata": {},
   "source": [
    "## CHATBOT TRIAL"
   ]
  },
  {
   "cell_type": "code",
   "execution_count": 53,
   "id": "31085b70",
   "metadata": {},
   "outputs": [],
   "source": [
    "response = rag_chain.invoke({\"input\":\"how to make someone fall in love with me\"})"
   ]
  },
  {
   "cell_type": "code",
   "execution_count": 54,
   "id": "9438d2b5",
   "metadata": {},
   "outputs": [
    {
     "name": "stdout",
     "output_type": "stream",
     "text": [
      "{'input': 'how to make someone fall in love with me', 'context': [Document(id='e7fdc814-28ba-4ade-b162-3ac4274e4be1', metadata={'index': 0, 'name': 'Amortentia'}, page_content=\"Potion Name: Amortentia. \\nUse Effect: Causes powerful infatuation or obsession in the drinker toward the person who gave it..\\nIngredients: Ashwinder eggs, Rose thorns, Peppermint, Powdered moonstone, Pearl dust\\nInstructions: Add Ashwinder eggs to cauldron and heat gently. Crush rose thorns and add with peppermint while stirring clockwise. Simmer for 10 minutes. Add powdered moonstone slowly while chanting the recipient's name. Finish with pearl dust and stir until a mother-of-pearl sheen appears.\\nNotes: Recognizable by its distinctive aroma, which varies according to what each individual finds most attractive. Not a true love potion; causes obsession.\\nAppearance:\\n- Color: pearly pink\\n- Smell: individual's most beloved scent\\n- Bottle Shape: heart-shaped vial\"), Document(id='2cc7b33b-aeca-40bf-ad9a-c5748a4cbe4f', metadata={'index': 1, 'name': 'Felix Felicis'}, page_content='Potion Name: Felix Felicis. \\nUse Effect: Grants the drinker extraordinary luck for a period of time..\\nIngredients: Squill bulb, Occamy eggshell, Horseradish, Powdered common rue, Heliotrope extract\\nInstructions: Boil squill bulb and horseradish until reduced. Add powdered Occamy shell and stir rapidly for 3 minutes. Mix in common rue and heliotrope extract while heating to golden bubble stage. Cool under starlight for 6 hours.\\nNotes: Overuse causes recklessness and giddiness. Illegal in competitive events such as exams and sports.\\nAppearance:\\n- Color: molten gold\\n- Smell: freshly baked bread\\n- Bottle Shape: teardrop flask'), Document(id='5928cf90-c94e-46a7-9524-af380588a60f', metadata={'name': 'Polyjuice Potion', 'index': 3}, page_content='Potion Name: Polyjuice Potion. \\nUse Effect: Allows the drinker to assume the form of another person..\\nIngredients: Lacewing flies (stewed for 21 days), Leeches, Powdered bicorn horn, Knotgrass, Fluxweed (picked at full moon), Shredded Boomslang skin, Piece of person to transform into (e.g., hair)\\nInstructions: Stew lacewing flies and prepare base. Add leeches and powdered bicorn horn. Add knotgrass and fluxweed with clockwise stir. Mix in Boomslang skin and the sample of the target person. Let brew for 30 days before use.\\nNotes: Complex and dangerous to brew. Transformation only lasts for one hour.\\nAppearance:\\n- Color: thick mud-brown\\n- Smell: earthy and bitter\\n- Bottle Shape: heavy stone bottle'), Document(id='3f62cada-8d75-4b25-959a-fe283b03a047', metadata={'index': 8, 'name': 'Elixir to Induce Euphoria'}, page_content='Potion Name: Elixir to Induce Euphoria. \\nUse Effect: Gives the drinker a feeling of intense happiness..\\nIngredients: Sun dew, Dandelion root, Crushed giggle petals, Orange zest, Tincture of light essence\\nInstructions: Boil sun dew and add dandelion root. Infuse with giggle petals while humming. Add orange zest and light essence tincture. Stir gently with golden spoon for 3 minutes.\\nNotes: Overdose may cause excessive singing or skipping.\\nAppearance:\\n- Color: sunlight yellow\\n- Smell: citrus and honey\\n- Bottle Shape: bubbly round bottle'), Document(id='d56c4c75-bf52-49f9-9147-fed6eb997ed5', metadata={'index': 9, 'name': 'Wiggenweld Potion'}, page_content='Potion Name: Wiggenweld Potion. \\nUse Effect: Revives those who have been magically unconscious..\\nIngredients: Moly plant, Dittany leaves, Unicorn hair strand, Phoenix feather infusion, Honeywater\\nInstructions: Brew moly and dittany for 20 minutes. Add unicorn hair and infuse with phoenix feather. Stir clockwise 7 times. Mix in honeywater and cool in sunlight.\\nNotes: Used as an antidote to the Draught of Living Death.\\nAppearance:\\n- Color: glowing green\\n- Smell: fresh leaves and warmth\\n- Bottle Shape: twisted glass tube'), Document(id='60f9deef-3be1-4cbf-b8fb-468a0da85364', metadata={'name': 'Featherlight Brew', 'index': 18}, page_content=\"Potion Name: Featherlight Brew. \\nUse Effect: Temporarily reduces the drinker's weight..\\nIngredients: Pixie dust, Willow bark, Airflower extract, Dandelion seed oil\\nInstructions: Mix pixie dust with bark extract. Infuse with airflower and dandelion oil. Stir until light as foam. Seal in floating vial.\\nNotes: Useful for climbing or escaping falls. Avoid strong winds.\\nAppearance:\\n- Color: cloudy white\\n- Smell: fresh air and flowers\\n- Bottle Shape: hollow feather-shaped tube\"), Document(id='8ef69c82-8965-4e7d-83f5-8b431c26f37c', metadata={'index': 15, 'name': 'Truth Mist'}, page_content='Potion Name: Truth Mist. \\nUse Effect: Causes anyone who inhales it to speak only the truth for a short period..\\nIngredients: Silver fog extract, Whispershade petals, Crushed crystal leaf, Moonlit dew\\nInstructions: Mix fog extract and crystal leaf to form a mist. Add petals and chant the invocation of clarity. Mist over hot flame until glowing. Cool quickly to trap vapors.\\nNotes: Only effective when inhaled, not ingested.\\nAppearance:\\n- Color: misty silver\\n- Smell: clean linen and citrus\\n- Bottle Shape: miniature spray bulb'), Document(id='ce116096-4de7-462a-809e-6f8b6d348719', metadata={'index': 2, 'name': 'Veritaserum'}, page_content='Potion Name: Veritaserum. \\nUse Effect: Forces the drinker to tell the truth..\\nIngredients: Mandrake root, Jobberknoll feathers, Wormwood infusion, Valerian root, Tincture of thyme\\nInstructions: Simmer mandrake root and valerian for 30 minutes. Add finely ground Jobberknoll feathers while stirring counter-clockwise. Pour in wormwood infusion and boil for 10 minutes. Finish with a drop of thyme tincture.\\nNotes: Effects can be resisted by strong will or antidotes. Use is restricted by wizarding law.\\nAppearance:\\n- Color: clear with silver shimmer\\n- Smell: burning parchment\\n- Bottle Shape: narrow cylinder'), Document(id='f55ead4f-54b8-498a-9fab-57f11a862711', metadata={'index': 11, 'name': 'Fire Protection Potion'}, page_content='Potion Name: Fire Protection Potion. \\nUse Effect: Temporarily protects the drinker from fire or extreme heat..\\nIngredients: Salamander blood, Crushed fire seeds, Flameflower nectar, Crimson salt, Powdered ruby\\nInstructions: Heat salamander blood until it bubbles lightly. Add fire seeds and flameflower nectar. Stir counter-clockwise and sprinkle crimson salt. Add powdered ruby and remove from flame immediately.\\nNotes: Effective for about 10 minutes. Do not use near water.\\nAppearance:\\n- Color: bright orange-red\\n- Smell: smoky and sharp\\n- Bottle Shape: flame-shaped phial'), Document(id='3d0da217-1fe4-474c-bc1d-eb6921a42cc1', metadata={'index': 5, 'name': 'Wolfsbane Potion'}, page_content='Potion Name: Wolfsbane Potion. \\nUse Effect: Allows werewolves to retain their minds during a full moon..\\nIngredients: Aconite (Wolfsbane), Powdered silverweed, Black pepper, Mistletoe berries, Pure spring water\\nInstructions: Mix powdered aconite with spring water. Add silverweed and black pepper. Boil gently and add mistletoe berries. Let steep for one hour before cooling and bottling.\\nNotes: Must be taken daily for a week prior to the full moon. Poisonous if brewed incorrectly.\\nAppearance:\\n- Color: icy blue\\n- Smell: mint and pine\\n- Bottle Shape: small crystal phial')], 'answer': \"I am not here to advise on manipulating others. If you're looking to create infatuation or obsession, you could consider brewing Amortentia potion. It causes powerful infatuation or obsession towards the person who gave it. But remember, it's not a true love potion; it causes obsession. Use it at your own risk.\"}\n"
     ]
    }
   ],
   "source": [
    "print(response)"
   ]
  },
  {
   "cell_type": "code",
   "execution_count": 55,
   "id": "4ff8540f",
   "metadata": {},
   "outputs": [
    {
     "name": "stdout",
     "output_type": "stream",
     "text": [
      "I am not here to advise on manipulating others. If you're looking to create infatuation or obsession, you could consider brewing Amortentia potion. It causes powerful infatuation or obsession towards the person who gave it. But remember, it's not a true love potion; it causes obsession. Use it at your own risk.\n"
     ]
    }
   ],
   "source": [
    "print(response[\"answer\"])"
   ]
  },
  {
   "cell_type": "code",
   "execution_count": 56,
   "id": "b3bde924",
   "metadata": {},
   "outputs": [
    {
     "name": "stdout",
     "output_type": "stream",
     "text": [
      "The Night Vision Elixir is useful at night. It temporarily enhances the drinker's vision in complete darkness. However, be warned that it may cause temporary light sensitivity. Use it if you dare to stumble around in the dark like a blind fool.\n",
      "The potion that contains Horseradish is Felix Felicis. It is used to grant the drinker extraordinary luck for a period of time.\n"
     ]
    }
   ],
   "source": [
    "response = rag_chain.invoke({\"input\":\"which potion is useful at night?\"})\n",
    "print(response[\"answer\"])\n",
    "response = rag_chain.invoke({\"input\":\"Which potion contains Horseradish?\"})\n",
    "print(response[\"answer\"])"
   ]
  },
  {
   "cell_type": "code",
   "execution_count": null,
   "id": "fd112329",
   "metadata": {},
   "outputs": [],
   "source": [
    "# how to make someone fall in love with me?\n",
    "# tell me something fun\n",
    "# i need medicine\n",
    "# i don't want to talk about potions\n",
    "# what is the ingredients for death potion"
   ]
  },
  {
   "cell_type": "markdown",
   "id": "46407440",
   "metadata": {},
   "source": [
    "## TESTING\n",
    "* Karakter bazlı bir chatbot olduğu için cevaplar veri setinden direkt olarak değil yorumlanarak veriliyor. Bu durumda exact match ve precision gibi metrikler yanıltıcı performans sonuçları üretebilir.\n",
    "* Bilgiye dayalı kontrol yapan F1 skor kullanılabilir.\n",
    "* Gereken cevaptaki her bir bilgi maddesi (malzeme gibi) anahtar ifade -key phrase- olarak tanımlanır. Eğer bu maddeler cevapta yer alıyorsa cevap doğru sayılır, karakterlerden gelen yorum kısımları yok sayılır. \n",
    "* Cevap ve gereken bilgi vektörleştirilip benzerliğine bakılabilir. 0.7+ benzerlik iyi kabul edilir. (cosine similarity)\n",
    "* Veya bir llm'e iki cevabı da verip bu doğru gerekenleri içeriyor mu diye sorup evet hayır cevaplarını toplayarak kendi test sistemini oluşturabilirsin"
   ]
  },
  {
   "cell_type": "code",
   "execution_count": null,
   "id": "275598a6",
   "metadata": {},
   "outputs": [],
   "source": [
    "from sklearn.metrics import precision_score, recall_score, f1_score\n",
    "from difflib import SequenceMatcher\n",
    "\n",
    "def similar(a, b):\n",
    "    return SequenceMatcher(None, a.lower(), b.lower()).ratio()\n",
    "\n",
    "def evaluate_answer(generated, gold_answers, threshold=0.8):\n",
    "    return any(similar(generated, gold) > threshold for gold in gold_answers)\n",
    "\n",
    "# Test veri setin\n",
    "test_data = [\n",
    "    {\n",
    "        \"question\": \"Which potion causes powerful infatuation in the drinker?\",\n",
    "        \"answer\": [\"Amortentia\"],\n",
    "        \"generated\": \"That would be Amortentia, a powerful infatuation potion.\"\n",
    "    },\n",
    "    ...\n",
    "]\n",
    "\n",
    "correct, total = 0, len(test_data)\n",
    "for example in test_data:\n",
    "    if evaluate_answer(example[\"generated\"], example[\"answer\"]):\n",
    "        correct += 1\n",
    "\n",
    "accuracy = correct / total\n",
    "print(f\"Accuracy: {accuracy:.2%}\")\n"
   ]
  },
  {
   "cell_type": "code",
   "execution_count": 60,
   "id": "95db83c3",
   "metadata": {},
   "outputs": [],
   "source": [
    "from sklearn.metrics.pairwise import cosine_similarity\n",
    "from rouge import Rouge\n",
    "from bert_score import score as bert_score\n",
    "from sentence_transformers import SentenceTransformer\n",
    "import numpy as np"
   ]
  },
  {
   "cell_type": "code",
   "execution_count": 63,
   "id": "debac12b",
   "metadata": {},
   "outputs": [],
   "source": [
    "def collect_model_outputs(test_data_path, retriever, llm, character=\"Severus Snape\"):\n",
    "    # Doğru prompt'u seç\n",
    "    if character == \"Severus Snape\":\n",
    "        system_prompt = system_prompt_severus\n",
    "    elif character == \"Fairy Godmother\":\n",
    "        system_prompt = system_prompt_godmother\n",
    "    else:\n",
    "        raise Exception(\"Geçerli bir karakter seçmediniz\")\n",
    "\n",
    "    # Zincirleri kur\n",
    "    prompt = ChatPromptTemplate.from_messages([\n",
    "        (\"system\", system_prompt),\n",
    "        (\"human\", \"{input}\")\n",
    "    ])\n",
    "    question_answer_chain = create_stuff_documents_chain(llm, prompt)\n",
    "    rag_chain = create_retrieval_chain(retriever, question_answer_chain)\n",
    "\n",
    "    # Test verisini oku\n",
    "    with open(test_data_path, \"r\", encoding=\"utf-8\") as f:\n",
    "        test_data = json.load(f)\n",
    "\n",
    "    # Cevapları toplamak için sözlük\n",
    "    model_outputs = {}\n",
    "\n",
    "    # Her bir soruyu modele sor ve yanıtı sakla\n",
    "    index = 0\n",
    "    for item in test_data:\n",
    "        if index % 10 == 0:\n",
    "            print(f\"Question no: {index}\")\n",
    "        question = item[\"question\"]\n",
    "        try:\n",
    "            response = rag_chain.invoke({\"input\": question})\n",
    "            model_outputs[question] = response[\"answer\"]\n",
    "        except Exception as e:\n",
    "            print(f\"Error while processing: {question}\")\n",
    "            print(e)\n",
    "            model_outputs[question] = \"\"\n",
    "        index += 1\n",
    "\n",
    "    return model_outputs"
   ]
  },
  {
   "cell_type": "code",
   "execution_count": 64,
   "id": "ac360a95",
   "metadata": {},
   "outputs": [
    {
     "name": "stdout",
     "output_type": "stream",
     "text": [
      "Question no: 0\n",
      "Question no: 10\n",
      "Question no: 20\n",
      "Question no: 30\n",
      "Question no: 40\n",
      "Question no: 50\n",
      "Question no: 60\n"
     ]
    }
   ],
   "source": [
    "model_outputs_severus = collect_model_outputs(\"data\\potion_test_questions.json\", retriever, llm, character=\"Severus Snape\")"
   ]
  },
  {
   "cell_type": "code",
   "execution_count": 72,
   "id": "57d5909a",
   "metadata": {},
   "outputs": [
    {
     "name": "stdout",
     "output_type": "stream",
     "text": [
      "Question no: 0\n",
      "Question no: 10\n",
      "Question no: 20\n",
      "Question no: 30\n",
      "Question no: 40\n",
      "Question no: 50\n",
      "Question no: 60\n"
     ]
    }
   ],
   "source": [
    "model_outputs_fairy = collect_model_outputs(\"data\\potion_test_questions.json\", retriever, llm, character=\"Fairy Godmother\")"
   ]
  },
  {
   "cell_type": "code",
   "execution_count": 71,
   "id": "6a91d531",
   "metadata": {},
   "outputs": [
    {
     "data": {
      "text/plain": [
       "'For your noise-related issue, the potion you seek is the \"Tongue-Tying Tonic.\" This potion will temporarily prevent you from speaking clearly or revealing secrets. Brew it with knotgrass, gagweed, vanishing salt, and binding vine extract. Just follow the instructions carefully and seal your lips with this murky green concoction. Maybe then you\\'ll finally be silent in that noisy environment.'"
      ]
     },
     "execution_count": 71,
     "metadata": {},
     "output_type": "execute_result"
    }
   ],
   "source": [
    "model_outputs_severus['Which potion would help if I’m in a noisy environment and want to remain silent?']"
   ]
  },
  {
   "cell_type": "code",
   "execution_count": 76,
   "id": "a4453d3b",
   "metadata": {},
   "outputs": [],
   "source": [
    "with open(\"data\\potion_test_questions.json\", \"r\", encoding=\"utf-8\") as f:\n",
    "    test_data = json.load(f)"
   ]
  },
  {
   "cell_type": "code",
   "execution_count": 77,
   "id": "b8072f4e",
   "metadata": {},
   "outputs": [
    {
     "data": {
      "text/plain": [
       "[{'question': 'Which potion would help if I’m in a noisy environment and want to remain silent?',\n",
       "  'answer': ['Tongue-Tying Tonic']},\n",
       " {'question': 'What potion lets you peek into memories lingering in a room?',\n",
       "  'answer': ['Veil Draught']},\n",
       " {'question': 'What potion should I avoid during a sports competition due to unfair advantage?',\n",
       "  'answer': ['Felix Felicis']},\n",
       " {'question': 'I want someone to fall in love with me, what can i do?',\n",
       "  'answer': ['Amortentia']},\n",
       " {'question': 'Which potion should I use if I’m heading into a dark cave?',\n",
       "  'answer': ['Night Vision Elixir']}]"
      ]
     },
     "execution_count": 77,
     "metadata": {},
     "output_type": "execute_result"
    }
   ],
   "source": [
    "test_data[0:5]"
   ]
  },
  {
   "cell_type": "code",
   "execution_count": 103,
   "id": "31a9e8fa",
   "metadata": {},
   "outputs": [],
   "source": [
    "from transformers import pipeline\n",
    "def evaluate_model(test_data_path: str, model_outputs: dict):\n",
    "    # Test verisini yükle\n",
    "    with open(test_data_path, \"r\", encoding=\"utf-8\") as f:\n",
    "        test_data = json.load(f)\n",
    "\n",
    "    # Referanslar ve tahminler hazırlanır\n",
    "    references = []\n",
    "    candidates = []\n",
    "    for item in test_data:\n",
    "        question = item[\"question\"]\n",
    "        expected_answer = item[\"answer\"][0]\n",
    "        model_answer = model_outputs.get(question, \"\")\n",
    "        references.append(expected_answer)\n",
    "        candidates.append(model_answer)\n",
    "\n",
    "    # ROUGE-L\n",
    "    rouge = Rouge()\n",
    "    rouge_scores = rouge.get_scores(candidates, references, avg=True)\n",
    "\n",
    "    # BERTScore\n",
    "    P, R, F1 = bert_score(candidates, references, lang=\"en\", rescale_with_baseline=False)\n",
    "    bertscore_result = {\n",
    "        \"precision\": P.mean().item(),\n",
    "        \"recall\": R.mean().item(),\n",
    "        \"f1\": F1.mean().item()\n",
    "    }\n",
    "\n",
    "    # Sentence Embedding Cosine Similarity\n",
    "    model = SentenceTransformer(\"all-MiniLM-L6-v2\")\n",
    "    ref_embeddings = model.encode(references, convert_to_tensor=True)\n",
    "    cand_embeddings = model.encode(candidates, convert_to_tensor=True)\n",
    "    cos_sim = cosine_similarity(ref_embeddings.cpu().numpy(), cand_embeddings.cpu().numpy())\n",
    "    avg_cosine_similarity = float(np.mean(np.diag(cos_sim)))\n",
    "\n",
    "\n",
    "    # entailment\n",
    "    entail_model = pipeline(\"text-classification\", model=\"roberta-large-mnli\")\n",
    "    entailment_results = []\n",
    "    for c, r in zip(candidates, references):\n",
    "        result = entail_model(f\"{c} </s> {r}\")[0]\n",
    "        entailment_results.append({\"label\": result['label'], \"score\": result['score']})\n",
    "\n",
    "    entailment_counts = {\n",
    "        \"entailment\": sum(1 for res in entailment_results if res[\"label\"] == \"ENTAILMENT\"),\n",
    "        \"neutral\": sum(1 for res in entailment_results if res[\"label\"] == \"NEUTRAL\"),\n",
    "        \"contradiction\": sum(1 for res in entailment_results if res[\"label\"] == \"CONTRADICTION\"),\n",
    "    }\n",
    "\n",
    "    return {\n",
    "        \"rouge\": rouge_scores,\n",
    "        \"bertscore\": bertscore_result,\n",
    "        \"embedding_cosine_similarity\": avg_cosine_similarity,\n",
    "        \"entailment\": entailment_counts\n",
    "    }"
   ]
  },
  {
   "cell_type": "code",
   "execution_count": 104,
   "id": "c655a4b8",
   "metadata": {},
   "outputs": [
    {
     "name": "stderr",
     "output_type": "stream",
     "text": [
      "Some weights of RobertaModel were not initialized from the model checkpoint at roberta-large and are newly initialized: ['pooler.dense.bias', 'pooler.dense.weight']\n",
      "You should probably TRAIN this model on a down-stream task to be able to use it for predictions and inference.\n",
      "c:\\Users\\rabia\\miniconda3\\envs\\openai-env\\lib\\site-packages\\huggingface_hub\\file_download.py:143: UserWarning: `huggingface_hub` cache-system uses symlinks by default to efficiently store duplicated files but your machine does not support them in C:\\Users\\rabia\\.cache\\huggingface\\hub\\models--roberta-large-mnli. Caching files will still work but in a degraded version that might require more space on your disk. This warning can be disabled by setting the `HF_HUB_DISABLE_SYMLINKS_WARNING` environment variable. For more details, see https://huggingface.co/docs/huggingface_hub/how-to-cache#limitations.\n",
      "To support symlinks on Windows, you either need to activate Developer Mode or to run Python as an administrator. In order to activate developer mode, see this article: https://docs.microsoft.com/en-us/windows/apps/get-started/enable-your-device-for-development\n",
      "  warnings.warn(message)\n",
      "Xet Storage is enabled for this repo, but the 'hf_xet' package is not installed. Falling back to regular HTTP download. For better performance, install the package with: `pip install huggingface_hub[hf_xet]` or `pip install hf_xet`\n",
      "Some weights of the model checkpoint at roberta-large-mnli were not used when initializing RobertaForSequenceClassification: ['roberta.pooler.dense.bias', 'roberta.pooler.dense.weight']\n",
      "- This IS expected if you are initializing RobertaForSequenceClassification from the checkpoint of a model trained on another task or with another architecture (e.g. initializing a BertForSequenceClassification model from a BertForPreTraining model).\n",
      "- This IS NOT expected if you are initializing RobertaForSequenceClassification from the checkpoint of a model that you expect to be exactly identical (initializing a BertForSequenceClassification model from a BertForSequenceClassification model).\n",
      "Device set to use cpu\n"
     ]
    }
   ],
   "source": [
    "results_severus = evaluate_model(\"data\\potion_test_questions.json\", model_outputs_severus)"
   ]
  },
  {
   "cell_type": "code",
   "execution_count": 105,
   "id": "3ad79a7c",
   "metadata": {},
   "outputs": [
    {
     "name": "stderr",
     "output_type": "stream",
     "text": [
      "Some weights of RobertaModel were not initialized from the model checkpoint at roberta-large and are newly initialized: ['pooler.dense.bias', 'pooler.dense.weight']\n",
      "You should probably TRAIN this model on a down-stream task to be able to use it for predictions and inference.\n",
      "Some weights of the model checkpoint at roberta-large-mnli were not used when initializing RobertaForSequenceClassification: ['roberta.pooler.dense.bias', 'roberta.pooler.dense.weight']\n",
      "- This IS expected if you are initializing RobertaForSequenceClassification from the checkpoint of a model trained on another task or with another architecture (e.g. initializing a BertForSequenceClassification model from a BertForPreTraining model).\n",
      "- This IS NOT expected if you are initializing RobertaForSequenceClassification from the checkpoint of a model that you expect to be exactly identical (initializing a BertForSequenceClassification model from a BertForSequenceClassification model).\n",
      "Device set to use cpu\n"
     ]
    }
   ],
   "source": [
    "results_fairy = evaluate_model(\"data\\potion_test_questions.json\", model_outputs_fairy)"
   ]
  },
  {
   "cell_type": "code",
   "execution_count": 101,
   "id": "1bd890bd",
   "metadata": {},
   "outputs": [
    {
     "data": {
      "text/plain": [
       "{'rouge': {'rouge-1': {'r': 0.8369565217391305,\n",
       "   'p': 0.05225124834644745,\n",
       "   'f': 0.09586437027945716},\n",
       "  'rouge-2': {'r': 0.6195652173913043,\n",
       "   'p': 0.023774862189733376,\n",
       "   'f': 0.04461571666568403},\n",
       "  'rouge-l': {'r': 0.8369565217391305,\n",
       "   'p': 0.05225124834644745,\n",
       "   'f': 0.09586437027945716}},\n",
       " 'bertscore': {'precision': 0.8015034198760986,\n",
       "  'recall': 0.8755400776863098,\n",
       "  'f1': 0.8366321325302124},\n",
       " 'embedding_cosine_similarity': 0.5084217190742493}"
      ]
     },
     "execution_count": 101,
     "metadata": {},
     "output_type": "execute_result"
    }
   ],
   "source": [
    "results_severus"
   ]
  },
  {
   "cell_type": "code",
   "execution_count": 98,
   "id": "49bc9fc4",
   "metadata": {},
   "outputs": [
    {
     "data": {
      "text/plain": [
       "{'rouge': {'rouge-1': {'r': 0.6480676328502415,\n",
       "   'p': 0.030588490626002753,\n",
       "   'f': 0.05785235328370848},\n",
       "  'rouge-2': {'r': 0.2826086956521739,\n",
       "   'p': 0.009094654596235176,\n",
       "   'f': 0.017459858258265393},\n",
       "  'rouge-l': {'r': 0.6480676328502415,\n",
       "   'p': 0.030588490626002753,\n",
       "   'f': 0.05785235328370848}},\n",
       " 'bertscore': {'precision': 0.7951695322990417,\n",
       "  'recall': 0.8696837425231934,\n",
       "  'f1': 0.8305426836013794},\n",
       " 'embedding_cosine_similarity': 0.4731394350528717}"
      ]
     },
     "execution_count": 98,
     "metadata": {},
     "output_type": "execute_result"
    }
   ],
   "source": [
    "results_fairy"
   ]
  },
  {
   "cell_type": "code",
   "execution_count": 106,
   "id": "a3a33f36",
   "metadata": {},
   "outputs": [],
   "source": [
    "def print_evaluation_results(results):\n",
    "    print(\"🔍 Evaluation Summary:\\n\")\n",
    "\n",
    "    print(\"📌 ROUGE Scores:\")\n",
    "    for rouge_type, scores in results[\"rouge\"].items():\n",
    "        print(f\"  {rouge_type.upper()}:\")\n",
    "        print(f\"    Recall:    {scores['r']:.4f}\")\n",
    "        print(f\"    Precision: {scores['p']:.4f}\")\n",
    "        print(f\"    F1 Score:  {scores['f']:.4f}\")\n",
    "    print()\n",
    "\n",
    "    print(\"📌 BERTScore:\")\n",
    "    print(f\"  Precision: {results['bertscore']['precision']:.4f}\")\n",
    "    print(f\"  Recall:    {results['bertscore']['recall']:.4f}\")\n",
    "    print(f\"  F1 Score:  {results['bertscore']['f1']:.4f}\")\n",
    "    print()\n",
    "\n",
    "    print(\"📌 Sentence Embedding Cosine Similarity:\")\n",
    "    print(f\"  Cosine Similarity: {results['embedding_cosine_similarity']:.4f}\")\n",
    "    print()\n",
    "\n",
    "    print(\"📌 Entailment Prediction (Natural Language Inference):\")\n",
    "    for label, count in results[\"entailment\"].items():\n",
    "        print(f\"  {label.capitalize()}: {count}\")\n"
   ]
  },
  {
   "cell_type": "code",
   "execution_count": 107,
   "id": "2b70b44d",
   "metadata": {},
   "outputs": [
    {
     "name": "stdout",
     "output_type": "stream",
     "text": [
      "🔍 Evaluation Summary:\n",
      "\n",
      "📌 ROUGE Scores:\n",
      "  ROUGE-1:\n",
      "    Recall:    0.8370\n",
      "    Precision: 0.0523\n",
      "    F1 Score:  0.0959\n",
      "  ROUGE-2:\n",
      "    Recall:    0.6196\n",
      "    Precision: 0.0238\n",
      "    F1 Score:  0.0446\n",
      "  ROUGE-L:\n",
      "    Recall:    0.8370\n",
      "    Precision: 0.0523\n",
      "    F1 Score:  0.0959\n",
      "\n",
      "📌 BERTScore:\n",
      "  Precision: 0.8015\n",
      "  Recall:    0.8755\n",
      "  F1 Score:  0.8366\n",
      "\n",
      "📌 Sentence Embedding Cosine Similarity:\n",
      "  Cosine Similarity: 0.5084\n",
      "\n",
      "📌 Entailment Prediction (Natural Language Inference):\n",
      "  Entailment: 58\n",
      "  Neutral: 7\n",
      "  Contradiction: 4\n"
     ]
    }
   ],
   "source": [
    "print_evaluation_results(results_severus)"
   ]
  },
  {
   "cell_type": "code",
   "execution_count": 108,
   "id": "6fbab26e",
   "metadata": {},
   "outputs": [
    {
     "name": "stdout",
     "output_type": "stream",
     "text": [
      "🔍 Evaluation Summary:\n",
      "\n",
      "📌 ROUGE Scores:\n",
      "  ROUGE-1:\n",
      "    Recall:    0.6481\n",
      "    Precision: 0.0306\n",
      "    F1 Score:  0.0579\n",
      "  ROUGE-2:\n",
      "    Recall:    0.2826\n",
      "    Precision: 0.0091\n",
      "    F1 Score:  0.0175\n",
      "  ROUGE-L:\n",
      "    Recall:    0.6481\n",
      "    Precision: 0.0306\n",
      "    F1 Score:  0.0579\n",
      "\n",
      "📌 BERTScore:\n",
      "  Precision: 0.7952\n",
      "  Recall:    0.8697\n",
      "  F1 Score:  0.8305\n",
      "\n",
      "📌 Sentence Embedding Cosine Similarity:\n",
      "  Cosine Similarity: 0.4731\n",
      "\n",
      "📌 Entailment Prediction (Natural Language Inference):\n",
      "  Entailment: 53\n",
      "  Neutral: 13\n",
      "  Contradiction: 3\n"
     ]
    }
   ],
   "source": [
    "print_evaluation_results(results_fairy)"
   ]
  }
 ],
 "metadata": {
  "kernelspec": {
   "display_name": "openai-env",
   "language": "python",
   "name": "python3"
  },
  "language_info": {
   "codemirror_mode": {
    "name": "ipython",
    "version": 3
   },
   "file_extension": ".py",
   "mimetype": "text/x-python",
   "name": "python",
   "nbconvert_exporter": "python",
   "pygments_lexer": "ipython3",
   "version": "3.10.18"
  }
 },
 "nbformat": 4,
 "nbformat_minor": 5
}
